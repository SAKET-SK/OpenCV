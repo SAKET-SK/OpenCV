{
 "cells": [
  {
   "cell_type": "code",
   "execution_count": 1,
   "id": "wrong-climb",
   "metadata": {},
   "outputs": [],
   "source": [
    "import pandas as pd\n",
    "import numpy as np\n",
    "import matplotlib.pyplot as plt\n",
    "#import gmplot"
   ]
  },
  {
   "cell_type": "code",
   "execution_count": 2,
   "id": "devoted-destruction",
   "metadata": {},
   "outputs": [],
   "source": [
    "data = pd.read_csv('firstop.csv')"
   ]
  },
  {
   "cell_type": "code",
   "execution_count": 3,
   "id": "private-history",
   "metadata": {},
   "outputs": [
    {
     "data": {
      "text/html": [
       "<div>\n",
       "<style scoped>\n",
       "    .dataframe tbody tr th:only-of-type {\n",
       "        vertical-align: middle;\n",
       "    }\n",
       "\n",
       "    .dataframe tbody tr th {\n",
       "        vertical-align: top;\n",
       "    }\n",
       "\n",
       "    .dataframe thead th {\n",
       "        text-align: right;\n",
       "    }\n",
       "</style>\n",
       "<table border=\"1\" class=\"dataframe\">\n",
       "  <thead>\n",
       "    <tr style=\"text-align: right;\">\n",
       "      <th></th>\n",
       "      <th>Unnamed: 0</th>\n",
       "      <th>TIME</th>\n",
       "      <th>SPEED</th>\n",
       "      <th>Latitude</th>\n",
       "      <th>Longitude</th>\n",
       "      <th>CARS</th>\n",
       "      <th>PERSONS</th>\n",
       "      <th>MOTORCYCLES</th>\n",
       "      <th>TRUCKS</th>\n",
       "    </tr>\n",
       "  </thead>\n",
       "  <tbody>\n",
       "    <tr>\n",
       "      <th>0</th>\n",
       "      <td>19</td>\n",
       "      <td>1</td>\n",
       "      <td>4</td>\n",
       "      <td>18.630658</td>\n",
       "      <td>73.789709</td>\n",
       "      <td>0</td>\n",
       "      <td>2</td>\n",
       "      <td>0</td>\n",
       "      <td>0</td>\n",
       "    </tr>\n",
       "    <tr>\n",
       "      <th>1</th>\n",
       "      <td>20</td>\n",
       "      <td>2</td>\n",
       "      <td>7</td>\n",
       "      <td>18.630658</td>\n",
       "      <td>73.789709</td>\n",
       "      <td>0</td>\n",
       "      <td>1</td>\n",
       "      <td>0</td>\n",
       "      <td>0</td>\n",
       "    </tr>\n",
       "    <tr>\n",
       "      <th>2</th>\n",
       "      <td>21</td>\n",
       "      <td>3</td>\n",
       "      <td>7</td>\n",
       "      <td>18.630658</td>\n",
       "      <td>73.789709</td>\n",
       "      <td>0</td>\n",
       "      <td>1</td>\n",
       "      <td>0</td>\n",
       "      <td>0</td>\n",
       "    </tr>\n",
       "    <tr>\n",
       "      <th>3</th>\n",
       "      <td>22</td>\n",
       "      <td>4</td>\n",
       "      <td>7</td>\n",
       "      <td>18.630658</td>\n",
       "      <td>73.789709</td>\n",
       "      <td>0</td>\n",
       "      <td>2</td>\n",
       "      <td>0</td>\n",
       "      <td>0</td>\n",
       "    </tr>\n",
       "    <tr>\n",
       "      <th>4</th>\n",
       "      <td>23</td>\n",
       "      <td>5</td>\n",
       "      <td>7</td>\n",
       "      <td>18.630658</td>\n",
       "      <td>73.789709</td>\n",
       "      <td>0</td>\n",
       "      <td>2</td>\n",
       "      <td>0</td>\n",
       "      <td>0</td>\n",
       "    </tr>\n",
       "  </tbody>\n",
       "</table>\n",
       "</div>"
      ],
      "text/plain": [
       "   Unnamed: 0  TIME  SPEED   Latitude  Longitude  CARS  PERSONS  MOTORCYCLES  \\\n",
       "0          19     1      4  18.630658  73.789709     0        2            0   \n",
       "1          20     2      7  18.630658  73.789709     0        1            0   \n",
       "2          21     3      7  18.630658  73.789709     0        1            0   \n",
       "3          22     4      7  18.630658  73.789709     0        2            0   \n",
       "4          23     5      7  18.630658  73.789709     0        2            0   \n",
       "\n",
       "   TRUCKS  \n",
       "0       0  \n",
       "1       0  \n",
       "2       0  \n",
       "3       0  \n",
       "4       0  "
      ]
     },
     "execution_count": 3,
     "metadata": {},
     "output_type": "execute_result"
    }
   ],
   "source": [
    "data.head()"
   ]
  },
  {
   "cell_type": "code",
   "execution_count": 4,
   "id": "identified-portsmouth",
   "metadata": {},
   "outputs": [
    {
     "data": {
      "text/plain": [
       "Index(['Unnamed: 0', 'TIME', 'SPEED', 'Latitude', 'Longitude', 'CARS',\n",
       "       'PERSONS', 'MOTORCYCLES', 'TRUCKS'],\n",
       "      dtype='object')"
      ]
     },
     "execution_count": 4,
     "metadata": {},
     "output_type": "execute_result"
    }
   ],
   "source": [
    "data.columns"
   ]
  },
  {
   "cell_type": "code",
   "execution_count": 5,
   "id": "simple-rebound",
   "metadata": {},
   "outputs": [
    {
     "data": {
      "text/html": [
       "<div>\n",
       "<style scoped>\n",
       "    .dataframe tbody tr th:only-of-type {\n",
       "        vertical-align: middle;\n",
       "    }\n",
       "\n",
       "    .dataframe tbody tr th {\n",
       "        vertical-align: top;\n",
       "    }\n",
       "\n",
       "    .dataframe thead th {\n",
       "        text-align: right;\n",
       "    }\n",
       "</style>\n",
       "<table border=\"1\" class=\"dataframe\">\n",
       "  <thead>\n",
       "    <tr style=\"text-align: right;\">\n",
       "      <th></th>\n",
       "      <th>TIME</th>\n",
       "      <th>SPEED</th>\n",
       "      <th>Latitude</th>\n",
       "      <th>Longitude</th>\n",
       "      <th>CARS</th>\n",
       "      <th>PERSONS</th>\n",
       "      <th>MOTORCYCLES</th>\n",
       "      <th>TRUCKS</th>\n",
       "    </tr>\n",
       "  </thead>\n",
       "  <tbody>\n",
       "    <tr>\n",
       "      <th>0</th>\n",
       "      <td>1</td>\n",
       "      <td>4</td>\n",
       "      <td>18.630658</td>\n",
       "      <td>73.789709</td>\n",
       "      <td>0</td>\n",
       "      <td>2</td>\n",
       "      <td>0</td>\n",
       "      <td>0</td>\n",
       "    </tr>\n",
       "    <tr>\n",
       "      <th>1</th>\n",
       "      <td>2</td>\n",
       "      <td>7</td>\n",
       "      <td>18.630658</td>\n",
       "      <td>73.789709</td>\n",
       "      <td>0</td>\n",
       "      <td>1</td>\n",
       "      <td>0</td>\n",
       "      <td>0</td>\n",
       "    </tr>\n",
       "    <tr>\n",
       "      <th>2</th>\n",
       "      <td>3</td>\n",
       "      <td>7</td>\n",
       "      <td>18.630658</td>\n",
       "      <td>73.789709</td>\n",
       "      <td>0</td>\n",
       "      <td>1</td>\n",
       "      <td>0</td>\n",
       "      <td>0</td>\n",
       "    </tr>\n",
       "    <tr>\n",
       "      <th>3</th>\n",
       "      <td>4</td>\n",
       "      <td>7</td>\n",
       "      <td>18.630658</td>\n",
       "      <td>73.789709</td>\n",
       "      <td>0</td>\n",
       "      <td>2</td>\n",
       "      <td>0</td>\n",
       "      <td>0</td>\n",
       "    </tr>\n",
       "    <tr>\n",
       "      <th>4</th>\n",
       "      <td>5</td>\n",
       "      <td>7</td>\n",
       "      <td>18.630658</td>\n",
       "      <td>73.789709</td>\n",
       "      <td>0</td>\n",
       "      <td>2</td>\n",
       "      <td>0</td>\n",
       "      <td>0</td>\n",
       "    </tr>\n",
       "  </tbody>\n",
       "</table>\n",
       "</div>"
      ],
      "text/plain": [
       "   TIME  SPEED   Latitude  Longitude  CARS  PERSONS  MOTORCYCLES  TRUCKS\n",
       "0     1      4  18.630658  73.789709     0        2            0       0\n",
       "1     2      7  18.630658  73.789709     0        1            0       0\n",
       "2     3      7  18.630658  73.789709     0        1            0       0\n",
       "3     4      7  18.630658  73.789709     0        2            0       0\n",
       "4     5      7  18.630658  73.789709     0        2            0       0"
      ]
     },
     "execution_count": 5,
     "metadata": {},
     "output_type": "execute_result"
    }
   ],
   "source": [
    "data = data[['TIME','SPEED','Latitude','Longitude','CARS','PERSONS','MOTORCYCLES','TRUCKS']]\n",
    "data.head()"
   ]
  },
  {
   "cell_type": "code",
   "execution_count": 6,
   "id": "mighty-fortune",
   "metadata": {},
   "outputs": [
    {
     "data": {
      "text/plain": [
       "73"
      ]
     },
     "execution_count": 6,
     "metadata": {},
     "output_type": "execute_result"
    }
   ],
   "source": [
    "data.shape[0]"
   ]
  },
  {
   "cell_type": "code",
   "execution_count": 8,
   "id": "divine-venice",
   "metadata": {},
   "outputs": [],
   "source": [
    "i=0\n",
    "time_instances = []\n",
    "while i < (data.shape[0] - 10):\n",
    "    A = data['SPEED'].iloc[i:i+10]\n",
    "    arr = np.array(A<20)\n",
    "    count = np.count_nonzero(arr)\n",
    "    if count == 10:\n",
    "        time_instances.append(i)\n",
    "        i = i + 10\n",
    "    else:\n",
    "        i = i + 1"
   ]
  },
  {
   "cell_type": "code",
   "execution_count": 9,
   "id": "formal-pollution",
   "metadata": {},
   "outputs": [
    {
     "data": {
      "text/plain": [
       "[0, 49, 59]"
      ]
     },
     "execution_count": 9,
     "metadata": {},
     "output_type": "execute_result"
    }
   ],
   "source": [
    "time_instances"
   ]
  },
  {
   "cell_type": "code",
   "execution_count": 10,
   "id": "neither-fleece",
   "metadata": {},
   "outputs": [
    {
     "name": "stdout",
     "output_type": "stream",
     "text": [
      "[49]\n",
      "[48    18.630295\n",
      "49    18.630295\n",
      "50    18.630295\n",
      "51    18.630295\n",
      "52    18.630295\n",
      "53    18.630295\n",
      "54    18.630295\n",
      "55    18.630295\n",
      "56    18.630295\n",
      "57    18.630295\n",
      "Name: Latitude, dtype: float64]\n",
      "[48    73.792155\n",
      "49    73.792155\n",
      "50    73.792155\n",
      "51    73.792155\n",
      "52    73.792155\n",
      "53    73.792155\n",
      "54    73.792155\n",
      "55    73.792155\n",
      "56    73.792155\n",
      "57    73.792155\n",
      "Name: Longitude, dtype: float64]\n"
     ]
    }
   ],
   "source": [
    "x = data['TIME'].iloc[0]\n",
    "TIME = []\n",
    "C= []\n",
    "P = []\n",
    "M = []\n",
    "T = []\n",
    "Lati = []\n",
    "Longi = []\n",
    "\n",
    "for i in time_instances:\n",
    "    cars = data['CARS'].iloc[i-x:i-x+10]\n",
    "    car_array = np.array(cars>0)\n",
    "    car_count = np.count_nonzero(car_array)\n",
    "    C.append(car_count)\n",
    "    persons = data['PERSONS'].iloc[i-x:i-x+10]\n",
    "    person_array = np.array(persons>0)\n",
    "    person_count = np.count_nonzero(person_array)\n",
    "    P.append(person_count)\n",
    "    bikes = data['MOTORCYCLES'].iloc[i-x:i-x+10]\n",
    "    bike_array = np.array(bikes>0)\n",
    "    bike_count = np.count_nonzero(bike_array)\n",
    "    M.append(bike_count)\n",
    "    trucks = data['TRUCKS'].iloc[i-x:i-x+10]\n",
    "    truck_array = np.array(trucks>0)\n",
    "    truck_count = np.count_nonzero(truck_array)\n",
    "    T.append(truck_count)\n",
    "    if car_count>5 or person_count>5 or bike_count>5 or truck_count>5:\n",
    "        TIME.append(i)\n",
    "        Lati.append(data['Latitude'].iloc[i-x:i-x+10])\n",
    "        Longi.append(data['Longitude'].iloc[i-x:i-x+10])\n",
    "    else:\n",
    "        continue\n",
    "print(TIME)\n",
    "print(Lati)\n",
    "print(Longi)"
   ]
  },
  {
   "cell_type": "code",
   "execution_count": null,
   "id": "solid-paraguay",
   "metadata": {},
   "outputs": [],
   "source": []
  }
 ],
 "metadata": {
  "kernelspec": {
   "display_name": "Python 3",
   "language": "python",
   "name": "python3"
  },
  "language_info": {
   "codemirror_mode": {
    "name": "ipython",
    "version": 3
   },
   "file_extension": ".py",
   "mimetype": "text/x-python",
   "name": "python",
   "nbconvert_exporter": "python",
   "pygments_lexer": "ipython3",
   "version": "3.8.8"
  }
 },
 "nbformat": 4,
 "nbformat_minor": 5
}
